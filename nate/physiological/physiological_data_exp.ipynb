{
 "cells": [
  {
   "cell_type": "code",
   "execution_count": 1,
   "id": "a544221f",
   "metadata": {},
   "outputs": [],
   "source": [
    "import numpy as np\n",
    "import matplotlib.pyplot as plt\n",
    "import os\n",
    "import pandas as pd"
   ]
  },
  {
   "cell_type": "code",
   "execution_count": 3,
   "id": "97586851",
   "metadata": {},
   "outputs": [],
   "source": [
    "path_to_data = \"../../Dataset/\"\n",
    "\n",
    "auc = pd.read_csv(os.path.join(path_to_data, \"data_drug_treatment_auc.txt\"), sep='\\t')\n",
    "patient = pd.read_csv(os.path.join(path_to_data, \"data_clinical_patient.txt\"), dtype=str, sep = '\\t', skiprows=4)\n",
    "samples = pd.read_csv(os.path.join(path_to_data, \"data_clinical_sample.txt\"), dtype=str, sep = '\\t', skiprows=4)"
   ]
  },
  {
   "cell_type": "code",
   "execution_count": 4,
   "id": "a93b4104",
   "metadata": {},
   "outputs": [
    {
     "data": {
      "text/plain": [
       "(266, 1069)"
      ]
     },
     "execution_count": 4,
     "metadata": {},
     "output_type": "execute_result"
    }
   ],
   "source": [
    "auc.shape"
   ]
  },
  {
   "cell_type": "code",
   "execution_count": 5,
   "id": "530d3a35",
   "metadata": {},
   "outputs": [
    {
     "data": {
      "text/plain": [
       "SAMPLE_ID                                DMS53_LUNG\n",
       "PATIENT_ID                               DMS53_LUNG\n",
       "PURITY                                         0.99\n",
       "PLOIDY                                         2.85\n",
       "GENOME_DOUBLINGS                                  1\n",
       "DEPMAPID                                 ACH-000698\n",
       "NAME                                         DMS 53\n",
       "SITE_OF_FINDING                                 NaN\n",
       "SAMPLE_TYPE                                 Primary\n",
       "PRIMARY_SITE                                   Lung\n",
       "SITE_SUBTYPE1                                    NS\n",
       "SITE_SUBTYPE2                                    NS\n",
       "SITE_SUBTYPE3                                    NS\n",
       "HIST_SUBTYPE1                  small_cell_carcinoma\n",
       "HIST_SUBTYPE2                                    NS\n",
       "HIST_SUBTYPE3                                    NS\n",
       "ANNOTATION_SOURCE                              CCLE\n",
       "CELL_LINE_SOURCE                               ATCC\n",
       "CHARACTERISTICS                            Adherent\n",
       "GROWTH_MEDIUM                    Waymouth's +10%FBS\n",
       "SUPPLEMENTS                                     NaN\n",
       "FREEZING_MEDIUM                              5%DMSO\n",
       "DOUBLING_TIME_FROM_VENDOR                       NaN\n",
       "DOUBLING_TIME                                   450\n",
       "TUMOR_TYPE                          lung_small_cell\n",
       "TYPE_REFINED                        lung_small_cell\n",
       "PATHOLOGIST_ANNOTATION                    Lung:SCLC\n",
       "MUTATION_RATE                           157.2416381\n",
       "ONCOTREE_CODE                                  SCLC\n",
       "CANCER_TYPE                  Small Cell Lung Cancer\n",
       "CANCER_TYPE_DETAILED         Small Cell Lung Cancer\n",
       "PROTEOMICS_10PLEX_ID                            NaN\n",
       "PROTEOMICS_TMT_LABEL                            NaN\n",
       "TMB_NONSYNONYMOUS                     23.3333333333\n",
       "Name: 0, dtype: object"
      ]
     },
     "execution_count": 5,
     "metadata": {},
     "output_type": "execute_result"
    }
   ],
   "source": [
    "samples.iloc[0]"
   ]
  },
  {
   "cell_type": "code",
   "execution_count": 30,
   "id": "f484afaa",
   "metadata": {},
   "outputs": [
    {
     "name": "stdout",
     "output_type": "stream",
     "text": [
      "424\n",
      "469\n"
     ]
    }
   ],
   "source": [
    "#only need one of these \n",
    "print(sum(patient['ETHNICITY'].isna()))\n",
    "print(sum(patient['RACE'].isna()))"
   ]
  },
  {
   "cell_type": "code",
   "execution_count": 31,
   "id": "b76d7b99",
   "metadata": {},
   "outputs": [
    {
     "data": {
      "text/html": [
       "<div>\n",
       "<style scoped>\n",
       "    .dataframe tbody tr th:only-of-type {\n",
       "        vertical-align: middle;\n",
       "    }\n",
       "\n",
       "    .dataframe tbody tr th {\n",
       "        vertical-align: top;\n",
       "    }\n",
       "\n",
       "    .dataframe thead th {\n",
       "        text-align: right;\n",
       "    }\n",
       "</style>\n",
       "<table border=\"1\" class=\"dataframe\">\n",
       "  <thead>\n",
       "    <tr style=\"text-align: right;\">\n",
       "      <th></th>\n",
       "      <th>SEX</th>\n",
       "      <th>AGE</th>\n",
       "      <th>ETHNICITY</th>\n",
       "    </tr>\n",
       "    <tr>\n",
       "      <th>PATIENT_ID</th>\n",
       "      <th></th>\n",
       "      <th></th>\n",
       "      <th></th>\n",
       "    </tr>\n",
       "  </thead>\n",
       "  <tbody>\n",
       "    <tr>\n",
       "      <th>DMS53_LUNG</th>\n",
       "      <td>Male</td>\n",
       "      <td>54</td>\n",
       "      <td>Caucasian</td>\n",
       "    </tr>\n",
       "    <tr>\n",
       "      <th>SW1116_LARGE_INTESTINE</th>\n",
       "      <td>Male</td>\n",
       "      <td>73</td>\n",
       "      <td>Caucasian</td>\n",
       "    </tr>\n",
       "    <tr>\n",
       "      <th>NCIH1694_LUNG</th>\n",
       "      <td>Male</td>\n",
       "      <td>61</td>\n",
       "      <td>Caucasian</td>\n",
       "    </tr>\n",
       "    <tr>\n",
       "      <th>P3HR1_HAEMATOPOIETIC_AND_LYMPHOID_TISSUE</th>\n",
       "      <td>Male</td>\n",
       "      <td>7</td>\n",
       "      <td>African_american</td>\n",
       "    </tr>\n",
       "    <tr>\n",
       "      <th>HUT78_HAEMATOPOIETIC_AND_LYMPHOID_TISSUE</th>\n",
       "      <td>Male</td>\n",
       "      <td>53</td>\n",
       "      <td>Caucasian</td>\n",
       "    </tr>\n",
       "    <tr>\n",
       "      <th>...</th>\n",
       "      <td>...</td>\n",
       "      <td>...</td>\n",
       "      <td>...</td>\n",
       "    </tr>\n",
       "    <tr>\n",
       "      <th>GEO_LARGE_INTESTINE</th>\n",
       "      <td>Na</td>\n",
       "      <td>NaN</td>\n",
       "      <td>NaN</td>\n",
       "    </tr>\n",
       "    <tr>\n",
       "      <th>NCIH2330_LUNG</th>\n",
       "      <td>Na</td>\n",
       "      <td>NaN</td>\n",
       "      <td>NaN</td>\n",
       "    </tr>\n",
       "    <tr>\n",
       "      <th>LP6_SOFT_TISSUE</th>\n",
       "      <td>Na</td>\n",
       "      <td>NaN</td>\n",
       "      <td>NaN</td>\n",
       "    </tr>\n",
       "    <tr>\n",
       "      <th>HS578BST_BREAST</th>\n",
       "      <td>Na</td>\n",
       "      <td>NaN</td>\n",
       "      <td>NaN</td>\n",
       "    </tr>\n",
       "    <tr>\n",
       "      <th>LC1SQ_LUNG</th>\n",
       "      <td>Na</td>\n",
       "      <td>NaN</td>\n",
       "      <td>NaN</td>\n",
       "    </tr>\n",
       "  </tbody>\n",
       "</table>\n",
       "<p>1461 rows × 3 columns</p>\n",
       "</div>"
      ],
      "text/plain": [
       "                                           SEX  AGE         ETHNICITY\n",
       "PATIENT_ID                                                           \n",
       "DMS53_LUNG                                Male   54         Caucasian\n",
       "SW1116_LARGE_INTESTINE                    Male   73         Caucasian\n",
       "NCIH1694_LUNG                             Male   61         Caucasian\n",
       "P3HR1_HAEMATOPOIETIC_AND_LYMPHOID_TISSUE  Male    7  African_american\n",
       "HUT78_HAEMATOPOIETIC_AND_LYMPHOID_TISSUE  Male   53         Caucasian\n",
       "...                                        ...  ...               ...\n",
       "GEO_LARGE_INTESTINE                         Na  NaN               NaN\n",
       "NCIH2330_LUNG                               Na  NaN               NaN\n",
       "LP6_SOFT_TISSUE                             Na  NaN               NaN\n",
       "HS578BST_BREAST                             Na  NaN               NaN\n",
       "LC1SQ_LUNG                                  Na  NaN               NaN\n",
       "\n",
       "[1461 rows x 3 columns]"
      ]
     },
     "execution_count": 31,
     "metadata": {},
     "output_type": "execute_result"
    }
   ],
   "source": [
    "#\n",
    "training = patient[['SEX','AGE', 'ETHNICITY']]\n",
    "training.index = patient['PATIENT_ID']\n",
    "training"
   ]
  },
  {
   "cell_type": "code",
   "execution_count": 32,
   "id": "8d9e0eb6",
   "metadata": {},
   "outputs": [
    {
     "data": {
      "text/plain": [
       "Index(['SAMPLE_ID', 'PATIENT_ID', 'PURITY', 'PLOIDY', 'GENOME_DOUBLINGS',\n",
       "       'DEPMAPID', 'NAME', 'SITE_OF_FINDING', 'SAMPLE_TYPE', 'PRIMARY_SITE',\n",
       "       'SITE_SUBTYPE1', 'SITE_SUBTYPE2', 'SITE_SUBTYPE3', 'HIST_SUBTYPE1',\n",
       "       'HIST_SUBTYPE2', 'HIST_SUBTYPE3', 'ANNOTATION_SOURCE',\n",
       "       'CELL_LINE_SOURCE', 'CHARACTERISTICS', 'GROWTH_MEDIUM', 'SUPPLEMENTS',\n",
       "       'FREEZING_MEDIUM', 'DOUBLING_TIME_FROM_VENDOR', 'DOUBLING_TIME',\n",
       "       'TUMOR_TYPE', 'TYPE_REFINED', 'PATHOLOGIST_ANNOTATION', 'MUTATION_RATE',\n",
       "       'ONCOTREE_CODE', 'CANCER_TYPE', 'CANCER_TYPE_DETAILED',\n",
       "       'PROTEOMICS_10PLEX_ID', 'PROTEOMICS_TMT_LABEL', 'TMB_NONSYNONYMOUS'],\n",
       "      dtype='object')"
      ]
     },
     "execution_count": 32,
     "metadata": {},
     "output_type": "execute_result"
    }
   ],
   "source": [
    "samples.columns"
   ]
  },
  {
   "cell_type": "code",
   "execution_count": 33,
   "id": "65659614",
   "metadata": {},
   "outputs": [],
   "source": [
    "#now add some sample data\n",
    "common_ids = list(set(training.index).intersection(samples['SAMPLE_ID']))\n",
    "\n",
    "doubling_time = {k:np.nan for k in training.index}\n",
    "mutation = {k:np.nan for k in training.index}\n",
    "ctype = {k:np.nan for k in training.index}\n",
    "sites = {k:np.nan for k in training.index}\n",
    "\n",
    "for sample_id in common_ids:\n",
    "    doubling_time[sample_id] = samples[samples['SAMPLE_ID'] == sample_id]['DOUBLING_TIME'].to_numpy()[0]\n",
    "    mutation[sample_id] = samples[samples['SAMPLE_ID'] == sample_id]['MUTATION_RATE'].to_numpy()[0]\n",
    "    ctype[sample_id] = samples[samples['SAMPLE_ID'] == sample_id]['CANCER_TYPE'].to_numpy()[0]\n",
    "    sites[sample_id] = samples[samples['SAMPLE_ID'] == sample_id]['PRIMARY_SITE'].to_numpy()[0]\n",
    "    "
   ]
  },
  {
   "cell_type": "code",
   "execution_count": 34,
   "id": "a65f5768",
   "metadata": {},
   "outputs": [
    {
     "name": "stderr",
     "output_type": "stream",
     "text": [
      "<ipython-input-34-cb31dfa78d42>:1: SettingWithCopyWarning: \n",
      "A value is trying to be set on a copy of a slice from a DataFrame.\n",
      "Try using .loc[row_indexer,col_indexer] = value instead\n",
      "\n",
      "See the caveats in the documentation: https://pandas.pydata.org/pandas-docs/stable/user_guide/indexing.html#returning-a-view-versus-a-copy\n",
      "  training['DOUBLING_TIME'] = training.index.map(doubling_time)\n",
      "<ipython-input-34-cb31dfa78d42>:2: SettingWithCopyWarning: \n",
      "A value is trying to be set on a copy of a slice from a DataFrame.\n",
      "Try using .loc[row_indexer,col_indexer] = value instead\n",
      "\n",
      "See the caveats in the documentation: https://pandas.pydata.org/pandas-docs/stable/user_guide/indexing.html#returning-a-view-versus-a-copy\n",
      "  training['MUTATION_RATE'] = training.index.map(mutation)\n",
      "<ipython-input-34-cb31dfa78d42>:3: SettingWithCopyWarning: \n",
      "A value is trying to be set on a copy of a slice from a DataFrame.\n",
      "Try using .loc[row_indexer,col_indexer] = value instead\n",
      "\n",
      "See the caveats in the documentation: https://pandas.pydata.org/pandas-docs/stable/user_guide/indexing.html#returning-a-view-versus-a-copy\n",
      "  training['CANCER_TYPE'] = training.index.map(ctype)\n",
      "<ipython-input-34-cb31dfa78d42>:4: SettingWithCopyWarning: \n",
      "A value is trying to be set on a copy of a slice from a DataFrame.\n",
      "Try using .loc[row_indexer,col_indexer] = value instead\n",
      "\n",
      "See the caveats in the documentation: https://pandas.pydata.org/pandas-docs/stable/user_guide/indexing.html#returning-a-view-versus-a-copy\n",
      "  training['PRIMARY_SITE'] = training.index.map(sites)\n"
     ]
    },
    {
     "data": {
      "text/html": [
       "<div>\n",
       "<style scoped>\n",
       "    .dataframe tbody tr th:only-of-type {\n",
       "        vertical-align: middle;\n",
       "    }\n",
       "\n",
       "    .dataframe tbody tr th {\n",
       "        vertical-align: top;\n",
       "    }\n",
       "\n",
       "    .dataframe thead th {\n",
       "        text-align: right;\n",
       "    }\n",
       "</style>\n",
       "<table border=\"1\" class=\"dataframe\">\n",
       "  <thead>\n",
       "    <tr style=\"text-align: right;\">\n",
       "      <th></th>\n",
       "      <th>SEX</th>\n",
       "      <th>AGE</th>\n",
       "      <th>ETHNICITY</th>\n",
       "      <th>DOUBLING_TIME</th>\n",
       "      <th>MUTATION_RATE</th>\n",
       "      <th>CANCER_TYPE</th>\n",
       "      <th>PRIMARY_SITE</th>\n",
       "    </tr>\n",
       "    <tr>\n",
       "      <th>PATIENT_ID</th>\n",
       "      <th></th>\n",
       "      <th></th>\n",
       "      <th></th>\n",
       "      <th></th>\n",
       "      <th></th>\n",
       "      <th></th>\n",
       "      <th></th>\n",
       "    </tr>\n",
       "  </thead>\n",
       "  <tbody>\n",
       "    <tr>\n",
       "      <th>DMS53_LUNG</th>\n",
       "      <td>Male</td>\n",
       "      <td>54</td>\n",
       "      <td>Caucasian</td>\n",
       "      <td>450</td>\n",
       "      <td>157.2416381</td>\n",
       "      <td>Small Cell Lung Cancer</td>\n",
       "      <td>Lung</td>\n",
       "    </tr>\n",
       "    <tr>\n",
       "      <th>SW1116_LARGE_INTESTINE</th>\n",
       "      <td>Male</td>\n",
       "      <td>73</td>\n",
       "      <td>Caucasian</td>\n",
       "      <td>123.2</td>\n",
       "      <td>94.37319183</td>\n",
       "      <td>Colorectal Cancer</td>\n",
       "      <td>Large_Intestine</td>\n",
       "    </tr>\n",
       "    <tr>\n",
       "      <th>NCIH1694_LUNG</th>\n",
       "      <td>Male</td>\n",
       "      <td>61</td>\n",
       "      <td>Caucasian</td>\n",
       "      <td>81.2</td>\n",
       "      <td>109.534987</td>\n",
       "      <td>Small Cell Lung Cancer</td>\n",
       "      <td>Lung</td>\n",
       "    </tr>\n",
       "    <tr>\n",
       "      <th>P3HR1_HAEMATOPOIETIC_AND_LYMPHOID_TISSUE</th>\n",
       "      <td>Male</td>\n",
       "      <td>7</td>\n",
       "      <td>African_american</td>\n",
       "      <td>NaN</td>\n",
       "      <td>166.4564059</td>\n",
       "      <td>Mature B-Cell Neoplasms</td>\n",
       "      <td>Haematopoietic_And_Lymphoid_Tissue</td>\n",
       "    </tr>\n",
       "    <tr>\n",
       "      <th>HUT78_HAEMATOPOIETIC_AND_LYMPHOID_TISSUE</th>\n",
       "      <td>Male</td>\n",
       "      <td>53</td>\n",
       "      <td>Caucasian</td>\n",
       "      <td>NaN</td>\n",
       "      <td>118.2175686</td>\n",
       "      <td>T-Lymphoblastic Leukemia/Lymphoma</td>\n",
       "      <td>Haematopoietic_And_Lymphoid_Tissue</td>\n",
       "    </tr>\n",
       "    <tr>\n",
       "      <th>...</th>\n",
       "      <td>...</td>\n",
       "      <td>...</td>\n",
       "      <td>...</td>\n",
       "      <td>...</td>\n",
       "      <td>...</td>\n",
       "      <td>...</td>\n",
       "      <td>...</td>\n",
       "    </tr>\n",
       "    <tr>\n",
       "      <th>GEO_LARGE_INTESTINE</th>\n",
       "      <td>Na</td>\n",
       "      <td>NaN</td>\n",
       "      <td>NaN</td>\n",
       "      <td>NaN</td>\n",
       "      <td>NaN</td>\n",
       "      <td>Cancer of Unknown Primary</td>\n",
       "      <td>Na</td>\n",
       "    </tr>\n",
       "    <tr>\n",
       "      <th>NCIH2330_LUNG</th>\n",
       "      <td>Na</td>\n",
       "      <td>NaN</td>\n",
       "      <td>NaN</td>\n",
       "      <td>NaN</td>\n",
       "      <td>NaN</td>\n",
       "      <td>Cancer of Unknown Primary</td>\n",
       "      <td>Na</td>\n",
       "    </tr>\n",
       "    <tr>\n",
       "      <th>LP6_SOFT_TISSUE</th>\n",
       "      <td>Na</td>\n",
       "      <td>NaN</td>\n",
       "      <td>NaN</td>\n",
       "      <td>NaN</td>\n",
       "      <td>NaN</td>\n",
       "      <td>Cancer of Unknown Primary</td>\n",
       "      <td>Na</td>\n",
       "    </tr>\n",
       "    <tr>\n",
       "      <th>HS578BST_BREAST</th>\n",
       "      <td>Na</td>\n",
       "      <td>NaN</td>\n",
       "      <td>NaN</td>\n",
       "      <td>NaN</td>\n",
       "      <td>NaN</td>\n",
       "      <td>Cancer of Unknown Primary</td>\n",
       "      <td>Na</td>\n",
       "    </tr>\n",
       "    <tr>\n",
       "      <th>LC1SQ_LUNG</th>\n",
       "      <td>Na</td>\n",
       "      <td>NaN</td>\n",
       "      <td>NaN</td>\n",
       "      <td>NaN</td>\n",
       "      <td>NaN</td>\n",
       "      <td>Cancer of Unknown Primary</td>\n",
       "      <td>Na</td>\n",
       "    </tr>\n",
       "  </tbody>\n",
       "</table>\n",
       "<p>1461 rows × 7 columns</p>\n",
       "</div>"
      ],
      "text/plain": [
       "                                           SEX  AGE         ETHNICITY  \\\n",
       "PATIENT_ID                                                              \n",
       "DMS53_LUNG                                Male   54         Caucasian   \n",
       "SW1116_LARGE_INTESTINE                    Male   73         Caucasian   \n",
       "NCIH1694_LUNG                             Male   61         Caucasian   \n",
       "P3HR1_HAEMATOPOIETIC_AND_LYMPHOID_TISSUE  Male    7  African_american   \n",
       "HUT78_HAEMATOPOIETIC_AND_LYMPHOID_TISSUE  Male   53         Caucasian   \n",
       "...                                        ...  ...               ...   \n",
       "GEO_LARGE_INTESTINE                         Na  NaN               NaN   \n",
       "NCIH2330_LUNG                               Na  NaN               NaN   \n",
       "LP6_SOFT_TISSUE                             Na  NaN               NaN   \n",
       "HS578BST_BREAST                             Na  NaN               NaN   \n",
       "LC1SQ_LUNG                                  Na  NaN               NaN   \n",
       "\n",
       "                                         DOUBLING_TIME MUTATION_RATE  \\\n",
       "PATIENT_ID                                                             \n",
       "DMS53_LUNG                                         450   157.2416381   \n",
       "SW1116_LARGE_INTESTINE                           123.2   94.37319183   \n",
       "NCIH1694_LUNG                                     81.2    109.534987   \n",
       "P3HR1_HAEMATOPOIETIC_AND_LYMPHOID_TISSUE           NaN   166.4564059   \n",
       "HUT78_HAEMATOPOIETIC_AND_LYMPHOID_TISSUE           NaN   118.2175686   \n",
       "...                                                ...           ...   \n",
       "GEO_LARGE_INTESTINE                                NaN           NaN   \n",
       "NCIH2330_LUNG                                      NaN           NaN   \n",
       "LP6_SOFT_TISSUE                                    NaN           NaN   \n",
       "HS578BST_BREAST                                    NaN           NaN   \n",
       "LC1SQ_LUNG                                         NaN           NaN   \n",
       "\n",
       "                                                                CANCER_TYPE  \\\n",
       "PATIENT_ID                                                                    \n",
       "DMS53_LUNG                                           Small Cell Lung Cancer   \n",
       "SW1116_LARGE_INTESTINE                                    Colorectal Cancer   \n",
       "NCIH1694_LUNG                                        Small Cell Lung Cancer   \n",
       "P3HR1_HAEMATOPOIETIC_AND_LYMPHOID_TISSUE            Mature B-Cell Neoplasms   \n",
       "HUT78_HAEMATOPOIETIC_AND_LYMPHOID_TISSUE  T-Lymphoblastic Leukemia/Lymphoma   \n",
       "...                                                                     ...   \n",
       "GEO_LARGE_INTESTINE                               Cancer of Unknown Primary   \n",
       "NCIH2330_LUNG                                     Cancer of Unknown Primary   \n",
       "LP6_SOFT_TISSUE                                   Cancer of Unknown Primary   \n",
       "HS578BST_BREAST                                   Cancer of Unknown Primary   \n",
       "LC1SQ_LUNG                                        Cancer of Unknown Primary   \n",
       "\n",
       "                                                                PRIMARY_SITE  \n",
       "PATIENT_ID                                                                    \n",
       "DMS53_LUNG                                                              Lung  \n",
       "SW1116_LARGE_INTESTINE                                       Large_Intestine  \n",
       "NCIH1694_LUNG                                                           Lung  \n",
       "P3HR1_HAEMATOPOIETIC_AND_LYMPHOID_TISSUE  Haematopoietic_And_Lymphoid_Tissue  \n",
       "HUT78_HAEMATOPOIETIC_AND_LYMPHOID_TISSUE  Haematopoietic_And_Lymphoid_Tissue  \n",
       "...                                                                      ...  \n",
       "GEO_LARGE_INTESTINE                                                       Na  \n",
       "NCIH2330_LUNG                                                             Na  \n",
       "LP6_SOFT_TISSUE                                                           Na  \n",
       "HS578BST_BREAST                                                           Na  \n",
       "LC1SQ_LUNG                                                                Na  \n",
       "\n",
       "[1461 rows x 7 columns]"
      ]
     },
     "execution_count": 34,
     "metadata": {},
     "output_type": "execute_result"
    }
   ],
   "source": [
    "training['DOUBLING_TIME'] = training.index.map(doubling_time)\n",
    "training['MUTATION_RATE'] = training.index.map(mutation)\n",
    "training['CANCER_TYPE'] = training.index.map(ctype)\n",
    "training['PRIMARY_SITE'] = training.index.map(sites)\n",
    "training"
   ]
  },
  {
   "cell_type": "code",
   "execution_count": 35,
   "id": "3168e4bf",
   "metadata": {},
   "outputs": [
    {
     "name": "stderr",
     "output_type": "stream",
     "text": [
      "<ipython-input-35-8f05aaca288a>:8: SettingWithCopyWarning: \n",
      "A value is trying to be set on a copy of a slice from a DataFrame.\n",
      "Try using .loc[row_indexer,col_indexer] = value instead\n",
      "\n",
      "See the caveats in the documentation: https://pandas.pydata.org/pandas-docs/stable/user_guide/indexing.html#returning-a-view-versus-a-copy\n",
      "  training['AUC'] = training.index.map(aucs)\n"
     ]
    }
   ],
   "source": [
    "common_ids2 = list(set(training.index).intersection(auc.columns[4:]))\n",
    "aucs = {k:np.nan for k in training.index}\n",
    "\n",
    "for sample_id in common_ids2:\n",
    "    #compute average and such \n",
    "    aucs[sample_id] = auc[sample_id][auc[sample_id].notnull()].mean()\n",
    "    \n",
    "training['AUC'] = training.index.map(aucs)"
   ]
  },
  {
   "cell_type": "code",
   "execution_count": 36,
   "id": "5f37e5dd",
   "metadata": {},
   "outputs": [
    {
     "name": "stderr",
     "output_type": "stream",
     "text": [
      "<ipython-input-36-79ba33291d7e>:2: SettingWithCopyWarning: \n",
      "A value is trying to be set on a copy of a slice from a DataFrame.\n",
      "Try using .loc[row_indexer,col_indexer] = value instead\n",
      "\n",
      "See the caveats in the documentation: https://pandas.pydata.org/pandas-docs/stable/user_guide/indexing.html#returning-a-view-versus-a-copy\n",
      "  training['AGE'] = training['AGE'].apply(lambda x: float(x))\n",
      "<ipython-input-36-79ba33291d7e>:3: SettingWithCopyWarning: \n",
      "A value is trying to be set on a copy of a slice from a DataFrame.\n",
      "Try using .loc[row_indexer,col_indexer] = value instead\n",
      "\n",
      "See the caveats in the documentation: https://pandas.pydata.org/pandas-docs/stable/user_guide/indexing.html#returning-a-view-versus-a-copy\n",
      "  training['AUC'] = training['AUC'].apply(lambda x: float(x))\n",
      "<ipython-input-36-79ba33291d7e>:4: SettingWithCopyWarning: \n",
      "A value is trying to be set on a copy of a slice from a DataFrame.\n",
      "Try using .loc[row_indexer,col_indexer] = value instead\n",
      "\n",
      "See the caveats in the documentation: https://pandas.pydata.org/pandas-docs/stable/user_guide/indexing.html#returning-a-view-versus-a-copy\n",
      "  training['MUTATION_RATE'] = training['MUTATION_RATE'].apply(lambda x: float(x))\n",
      "<ipython-input-36-79ba33291d7e>:5: SettingWithCopyWarning: \n",
      "A value is trying to be set on a copy of a slice from a DataFrame.\n",
      "Try using .loc[row_indexer,col_indexer] = value instead\n",
      "\n",
      "See the caveats in the documentation: https://pandas.pydata.org/pandas-docs/stable/user_guide/indexing.html#returning-a-view-versus-a-copy\n",
      "  training['DOUBLING_TIME'] = training['DOUBLING_TIME'].apply(lambda x: float(x))\n"
     ]
    }
   ],
   "source": [
    "numerics = ['AGE', 'AUC', 'DOUBLING_TIME', 'MUTATION_RATE']\n",
    "training['AGE'] = training['AGE'].apply(lambda x: float(x))\n",
    "training['AUC'] = training['AUC'].apply(lambda x: float(x))\n",
    "training['MUTATION_RATE'] = training['MUTATION_RATE'].apply(lambda x: float(x))\n",
    "training['DOUBLING_TIME'] = training['DOUBLING_TIME'].apply(lambda x: float(x))"
   ]
  },
  {
   "cell_type": "code",
   "execution_count": 38,
   "id": "55342460",
   "metadata": {},
   "outputs": [
    {
     "data": {
      "text/html": [
       "<div>\n",
       "<style scoped>\n",
       "    .dataframe tbody tr th:only-of-type {\n",
       "        vertical-align: middle;\n",
       "    }\n",
       "\n",
       "    .dataframe tbody tr th {\n",
       "        vertical-align: top;\n",
       "    }\n",
       "\n",
       "    .dataframe thead th {\n",
       "        text-align: right;\n",
       "    }\n",
       "</style>\n",
       "<table border=\"1\" class=\"dataframe\">\n",
       "  <thead>\n",
       "    <tr style=\"text-align: right;\">\n",
       "      <th></th>\n",
       "      <th>SEX</th>\n",
       "      <th>AGE</th>\n",
       "      <th>ETHNICITY</th>\n",
       "      <th>DOUBLING_TIME</th>\n",
       "      <th>MUTATION_RATE</th>\n",
       "      <th>CANCER_TYPE</th>\n",
       "      <th>PRIMARY_SITE</th>\n",
       "      <th>AUC</th>\n",
       "    </tr>\n",
       "    <tr>\n",
       "      <th>PATIENT_ID</th>\n",
       "      <th></th>\n",
       "      <th></th>\n",
       "      <th></th>\n",
       "      <th></th>\n",
       "      <th></th>\n",
       "      <th></th>\n",
       "      <th></th>\n",
       "      <th></th>\n",
       "    </tr>\n",
       "  </thead>\n",
       "  <tbody>\n",
       "    <tr>\n",
       "      <th>DMS53_LUNG</th>\n",
       "      <td>Male</td>\n",
       "      <td>54.0</td>\n",
       "      <td>Caucasian</td>\n",
       "      <td>450.0</td>\n",
       "      <td>157.241638</td>\n",
       "      <td>Small Cell Lung Cancer</td>\n",
       "      <td>Lung</td>\n",
       "      <td>0.934474</td>\n",
       "    </tr>\n",
       "    <tr>\n",
       "      <th>SW1116_LARGE_INTESTINE</th>\n",
       "      <td>Male</td>\n",
       "      <td>73.0</td>\n",
       "      <td>Caucasian</td>\n",
       "      <td>123.2</td>\n",
       "      <td>94.373192</td>\n",
       "      <td>Colorectal Cancer</td>\n",
       "      <td>Large_Intestine</td>\n",
       "      <td>0.945960</td>\n",
       "    </tr>\n",
       "    <tr>\n",
       "      <th>NCIH1694_LUNG</th>\n",
       "      <td>Male</td>\n",
       "      <td>61.0</td>\n",
       "      <td>Caucasian</td>\n",
       "      <td>81.2</td>\n",
       "      <td>109.534987</td>\n",
       "      <td>Small Cell Lung Cancer</td>\n",
       "      <td>Lung</td>\n",
       "      <td>0.883392</td>\n",
       "    </tr>\n",
       "    <tr>\n",
       "      <th>P3HR1_HAEMATOPOIETIC_AND_LYMPHOID_TISSUE</th>\n",
       "      <td>Male</td>\n",
       "      <td>7.0</td>\n",
       "      <td>African_american</td>\n",
       "      <td>NaN</td>\n",
       "      <td>166.456406</td>\n",
       "      <td>Mature B-Cell Neoplasms</td>\n",
       "      <td>Haematopoietic_And_Lymphoid_Tissue</td>\n",
       "      <td>0.766108</td>\n",
       "    </tr>\n",
       "    <tr>\n",
       "      <th>UMUC3_URINARY_TRACT</th>\n",
       "      <td>Male</td>\n",
       "      <td>NaN</td>\n",
       "      <td>Caucasian</td>\n",
       "      <td>386.7</td>\n",
       "      <td>124.707962</td>\n",
       "      <td>Bladder Cancer</td>\n",
       "      <td>Urinary_Tract</td>\n",
       "      <td>0.813209</td>\n",
       "    </tr>\n",
       "    <tr>\n",
       "      <th>...</th>\n",
       "      <td>...</td>\n",
       "      <td>...</td>\n",
       "      <td>...</td>\n",
       "      <td>...</td>\n",
       "      <td>...</td>\n",
       "      <td>...</td>\n",
       "      <td>...</td>\n",
       "      <td>...</td>\n",
       "    </tr>\n",
       "    <tr>\n",
       "      <th>SARC9371_BONE</th>\n",
       "      <td>NaN</td>\n",
       "      <td>NaN</td>\n",
       "      <td>NaN</td>\n",
       "      <td>NaN</td>\n",
       "      <td>NaN</td>\n",
       "      <td>Cancer of Unknown Primary</td>\n",
       "      <td>Na</td>\n",
       "      <td>0.907003</td>\n",
       "    </tr>\n",
       "    <tr>\n",
       "      <th>MCC26_SKIN</th>\n",
       "      <td>NaN</td>\n",
       "      <td>NaN</td>\n",
       "      <td>NaN</td>\n",
       "      <td>NaN</td>\n",
       "      <td>NaN</td>\n",
       "      <td>Cancer of Unknown Primary</td>\n",
       "      <td>Na</td>\n",
       "      <td>0.920233</td>\n",
       "    </tr>\n",
       "    <tr>\n",
       "      <th>NBSUSSR_AUTONOMIC_GANGLIA</th>\n",
       "      <td>NaN</td>\n",
       "      <td>NaN</td>\n",
       "      <td>NaN</td>\n",
       "      <td>NaN</td>\n",
       "      <td>NaN</td>\n",
       "      <td>Cancer of Unknown Primary</td>\n",
       "      <td>Na</td>\n",
       "      <td>0.788986</td>\n",
       "    </tr>\n",
       "    <tr>\n",
       "      <th>GEO_LARGE_INTESTINE</th>\n",
       "      <td>NaN</td>\n",
       "      <td>NaN</td>\n",
       "      <td>NaN</td>\n",
       "      <td>NaN</td>\n",
       "      <td>NaN</td>\n",
       "      <td>Cancer of Unknown Primary</td>\n",
       "      <td>Na</td>\n",
       "      <td>0.902363</td>\n",
       "    </tr>\n",
       "    <tr>\n",
       "      <th>LC1SQ_LUNG</th>\n",
       "      <td>NaN</td>\n",
       "      <td>NaN</td>\n",
       "      <td>NaN</td>\n",
       "      <td>NaN</td>\n",
       "      <td>NaN</td>\n",
       "      <td>Cancer of Unknown Primary</td>\n",
       "      <td>Na</td>\n",
       "      <td>0.893699</td>\n",
       "    </tr>\n",
       "  </tbody>\n",
       "</table>\n",
       "<p>1020 rows × 8 columns</p>\n",
       "</div>"
      ],
      "text/plain": [
       "                                           SEX   AGE         ETHNICITY  \\\n",
       "PATIENT_ID                                                               \n",
       "DMS53_LUNG                                Male  54.0         Caucasian   \n",
       "SW1116_LARGE_INTESTINE                    Male  73.0         Caucasian   \n",
       "NCIH1694_LUNG                             Male  61.0         Caucasian   \n",
       "P3HR1_HAEMATOPOIETIC_AND_LYMPHOID_TISSUE  Male   7.0  African_american   \n",
       "UMUC3_URINARY_TRACT                       Male   NaN         Caucasian   \n",
       "...                                        ...   ...               ...   \n",
       "SARC9371_BONE                              NaN   NaN               NaN   \n",
       "MCC26_SKIN                                 NaN   NaN               NaN   \n",
       "NBSUSSR_AUTONOMIC_GANGLIA                  NaN   NaN               NaN   \n",
       "GEO_LARGE_INTESTINE                        NaN   NaN               NaN   \n",
       "LC1SQ_LUNG                                 NaN   NaN               NaN   \n",
       "\n",
       "                                          DOUBLING_TIME  MUTATION_RATE  \\\n",
       "PATIENT_ID                                                               \n",
       "DMS53_LUNG                                        450.0     157.241638   \n",
       "SW1116_LARGE_INTESTINE                            123.2      94.373192   \n",
       "NCIH1694_LUNG                                      81.2     109.534987   \n",
       "P3HR1_HAEMATOPOIETIC_AND_LYMPHOID_TISSUE            NaN     166.456406   \n",
       "UMUC3_URINARY_TRACT                               386.7     124.707962   \n",
       "...                                                 ...            ...   \n",
       "SARC9371_BONE                                       NaN            NaN   \n",
       "MCC26_SKIN                                          NaN            NaN   \n",
       "NBSUSSR_AUTONOMIC_GANGLIA                           NaN            NaN   \n",
       "GEO_LARGE_INTESTINE                                 NaN            NaN   \n",
       "LC1SQ_LUNG                                          NaN            NaN   \n",
       "\n",
       "                                                        CANCER_TYPE  \\\n",
       "PATIENT_ID                                                            \n",
       "DMS53_LUNG                                   Small Cell Lung Cancer   \n",
       "SW1116_LARGE_INTESTINE                            Colorectal Cancer   \n",
       "NCIH1694_LUNG                                Small Cell Lung Cancer   \n",
       "P3HR1_HAEMATOPOIETIC_AND_LYMPHOID_TISSUE    Mature B-Cell Neoplasms   \n",
       "UMUC3_URINARY_TRACT                                  Bladder Cancer   \n",
       "...                                                             ...   \n",
       "SARC9371_BONE                             Cancer of Unknown Primary   \n",
       "MCC26_SKIN                                Cancer of Unknown Primary   \n",
       "NBSUSSR_AUTONOMIC_GANGLIA                 Cancer of Unknown Primary   \n",
       "GEO_LARGE_INTESTINE                       Cancer of Unknown Primary   \n",
       "LC1SQ_LUNG                                Cancer of Unknown Primary   \n",
       "\n",
       "                                                                PRIMARY_SITE  \\\n",
       "PATIENT_ID                                                                     \n",
       "DMS53_LUNG                                                              Lung   \n",
       "SW1116_LARGE_INTESTINE                                       Large_Intestine   \n",
       "NCIH1694_LUNG                                                           Lung   \n",
       "P3HR1_HAEMATOPOIETIC_AND_LYMPHOID_TISSUE  Haematopoietic_And_Lymphoid_Tissue   \n",
       "UMUC3_URINARY_TRACT                                            Urinary_Tract   \n",
       "...                                                                      ...   \n",
       "SARC9371_BONE                                                             Na   \n",
       "MCC26_SKIN                                                                Na   \n",
       "NBSUSSR_AUTONOMIC_GANGLIA                                                 Na   \n",
       "GEO_LARGE_INTESTINE                                                       Na   \n",
       "LC1SQ_LUNG                                                                Na   \n",
       "\n",
       "                                               AUC  \n",
       "PATIENT_ID                                          \n",
       "DMS53_LUNG                                0.934474  \n",
       "SW1116_LARGE_INTESTINE                    0.945960  \n",
       "NCIH1694_LUNG                             0.883392  \n",
       "P3HR1_HAEMATOPOIETIC_AND_LYMPHOID_TISSUE  0.766108  \n",
       "UMUC3_URINARY_TRACT                       0.813209  \n",
       "...                                            ...  \n",
       "SARC9371_BONE                             0.907003  \n",
       "MCC26_SKIN                                0.920233  \n",
       "NBSUSSR_AUTONOMIC_GANGLIA                 0.788986  \n",
       "GEO_LARGE_INTESTINE                       0.902363  \n",
       "LC1SQ_LUNG                                0.893699  \n",
       "\n",
       "[1020 rows x 8 columns]"
      ]
     },
     "execution_count": 38,
     "metadata": {},
     "output_type": "execute_result"
    }
   ],
   "source": [
    "training = training[training['AUC'].notnull()]\n",
    "\n",
    "#get rid of a weird thing\n",
    "sexes = ['Male', 'Female']\n",
    "training['SEX'] = training['SEX'].apply(lambda x: np.nan if x not in sexes else x)\n",
    "training"
   ]
  },
  {
   "cell_type": "code",
   "execution_count": 40,
   "id": "464a3005",
   "metadata": {},
   "outputs": [],
   "source": [
    "training.to_csv('physiological.csv')"
   ]
  },
  {
   "cell_type": "code",
   "execution_count": 192,
   "id": "4e5643b8",
   "metadata": {},
   "outputs": [
    {
     "data": {
      "text/plain": [
       "Text(0.5, 1.0, 'Age-AUC')"
      ]
     },
     "execution_count": 192,
     "metadata": {},
     "output_type": "execute_result"
    },
    {
     "data": {
      "image/png": "[encoded data removed]",
      "text/plain": [
       "<Figure size 432x288 with 1 Axes>"
      ]
     },
     "metadata": {
      "needs_background": "light"
     },
     "output_type": "display_data"
    }
   ],
   "source": [
    "age_auc = training[['AGE','AUC']]\n",
    "age_auc = age_auc.dropna() \n",
    "age_auc.plot.scatter(x = 'AGE', y = 'AUC')\n",
    "plt.title('Age-AUC')"
   ]
  },
  {
   "cell_type": "code",
   "execution_count": 149,
   "id": "9581f49a",
   "metadata": {},
   "outputs": [
    {
     "data": {
      "text/plain": [
       "Text(0.5, 1.0, 'Doubling time - AUC')"
      ]
     },
     "execution_count": 149,
     "metadata": {},
     "output_type": "execute_result"
    },
    {
     "data": {
      "image/png": "[encoded data removed]",
      "text/plain": [
       "<Figure size 432x288 with 1 Axes>"
      ]
     },
     "metadata": {
      "needs_background": "light"
     },
     "output_type": "display_data"
    }
   ],
   "source": [
    "doub_auc = training[['DOUBLING_TIME','AUC']]\n",
    "doub_auc = doub_auc.dropna() \n",
    "doub_auc.plot.scatter(x = 'DOUBLING_TIME', y = 'AUC')\n",
    "\n",
    "plt.title('Doubling time - AUC')"
   ]
  },
  {
   "cell_type": "code",
   "execution_count": 151,
   "id": "ed9abd2e",
   "metadata": {},
   "outputs": [
    {
     "data": {
      "text/plain": [
       "Text(0.5, 1.0, 'Ethnicity - AUC')"
      ]
     },
     "execution_count": 151,
     "metadata": {},
     "output_type": "execute_result"
    },
    {
     "data": {
      "image/png": "[encoded data removed]",
      "text/plain": [
       "<Figure size 432x288 with 1 Axes>"
      ]
     },
     "metadata": {
      "needs_background": "light"
     },
     "output_type": "display_data"
    }
   ],
   "source": [
    "eth_auc = training[['ETHNICITY','AUC']]\n",
    "eth_auc = eth_auc.dropna() \n",
    "\n",
    "#now make an encoding \n",
    "levels = {s:i for i,s in enumerate(set(list(eth_auc['ETHNICITY'])))}\n",
    "\n",
    "eth_auc['mapped'] = eth_auc['ETHNICITY'].apply(lambda x: levels[x])\n",
    "eth_auc.plot.scatter(x = 'mapped', y = 'AUC')\n",
    "\n",
    "plt.title('Ethnicity - AUC')"
   ]
  },
  {
   "cell_type": "code",
   "execution_count": 152,
   "id": "001d93dd",
   "metadata": {},
   "outputs": [
    {
     "data": {
      "text/plain": [
       "Text(0.5, 1.0, 'Age - Mutation Rate')"
      ]
     },
     "execution_count": 152,
     "metadata": {},
     "output_type": "execute_result"
    },
    {
     "data": {
      "image/png": "[encoded data removed]",
      "text/plain": [
       "<Figure size 432x288 with 1 Axes>"
      ]
     },
     "metadata": {
      "needs_background": "light"
     },
     "output_type": "display_data"
    }
   ],
   "source": [
    "age_mut = training[['AGE','MUTATION_RATE']]\n",
    "age_mut = age_mut.dropna() \n",
    "age_mut.plot.scatter(x = 'AGE', y = 'MUTATION_RATE')\n",
    "\n",
    "plt.title('Age - Mutation Rate')"
   ]
  },
  {
   "cell_type": "code",
   "execution_count": 191,
   "id": "11a862db",
   "metadata": {},
   "outputs": [
    {
     "name": "stderr",
     "output_type": "stream",
     "text": [
      "<ipython-input-191-59ea96ecb667>:4: SettingWithCopyWarning: \n",
      "A value is trying to be set on a copy of a slice from a DataFrame.\n",
      "Try using .loc[row_indexer,col_indexer] = value instead\n",
      "\n",
      "See the caveats in the documentation: https://pandas.pydata.org/pandas-docs/stable/user_guide/indexing.html#returning-a-view-versus-a-copy\n",
      "  sex_auc['SEX'] = sex_auc['SEX'].apply(lambda x: np.nan if x not in sexes else x)\n"
     ]
    },
    {
     "data": {
      "text/plain": [
       "Text(0.5, 1.0, 'SEX - AUC')"
      ]
     },
     "execution_count": 191,
     "metadata": {},
     "output_type": "execute_result"
    },
    {
     "data": {
      "image/png": "[encoded data removed]",
      "text/plain": [
       "<Figure size 432x288 with 1 Axes>"
      ]
     },
     "metadata": {
      "needs_background": "light"
     },
     "output_type": "display_data"
    }
   ],
   "source": [
    "sex_auc = training[['SEX','AUC']]\n",
    "sexes = ['Male', 'Female']\n",
    "\n",
    "sex_auc['SEX'] = sex_auc['SEX'].apply(lambda x: np.nan if x not in sexes else x)\n",
    "sex_auc = sex_auc.dropna() \n",
    "\n",
    "#now make an encoding \n",
    "levels = {s:i for i,s in enumerate({'Male', 'Female'})}\n",
    "sex_auc['mapped'] = sex_auc['SEX'].apply(lambda x: levels[x])\n",
    "\n",
    "sex_auc.plot.scatter(x = 'mapped', y = 'AUC')\n",
    "\n",
    "plt.title('SEX - AUC')"
   ]
  },
  {
   "cell_type": "code",
   "execution_count": 197,
   "id": "a905905a",
   "metadata": {},
   "outputs": [
    {
     "data": {
      "text/plain": [
       "array([[1.        , 0.02054092],\n",
       "       [0.02054092, 1.        ]])"
      ]
     },
     "execution_count": 197,
     "metadata": {},
     "output_type": "execute_result"
    }
   ],
   "source": [
    "np.corrcoef(age_mut['AGE'].to_numpy(), age_mut['MUTATION_RATE'].to_numpy())"
   ]
  },
  {
   "cell_type": "code",
   "execution_count": null,
   "id": "89d51b07",
   "metadata": {},
   "outputs": [],
   "source": []
  }
 ],
 "metadata": {
  "kernelspec": {
   "display_name": "Python 3",
   "language": "python",
   "name": "python3"
  },
  "language_info": {
   "codemirror_mode": {
    "name": "ipython",
    "version": 3
   },
   "file_extension": ".py",
   "mimetype": "text/x-python",
   "name": "python",
   "nbconvert_exporter": "python",
   "pygments_lexer": "ipython3",
   "version": "3.9.3"
  }
 },
 "nbformat": 4,
 "nbformat_minor": 5
}
