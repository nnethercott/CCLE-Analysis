{
 "cells": [
  {
   "cell_type": "code",
   "execution_count": 1,
   "id": "170ea933",
   "metadata": {},
   "outputs": [],
   "source": [
    "import matplotlib.pyplot as plt\n",
    "import numpy as np\n",
    "import os \n",
    "\n",
    "import sys\n",
    "np.set_printoptions(threshold=sys.maxsize)"
   ]
  },
  {
   "cell_type": "markdown",
   "id": "be64657c",
   "metadata": {},
   "source": [
    "Useful links:\n",
    "leukemia website, maybe some classes of drugs can be deduced here\n",
    "https://www.lls.org/leukemia/chronic-myeloid-leukemia/treatment/chemotherapy-and-drug-therapy\n",
    "\n",
    "drugbank page with list of tki drugs\n",
    "https://go.drugbank.com/categories/DBCAT001447\n"
   ]
  },
  {
   "cell_type": "code",
   "execution_count": 2,
   "id": "4d75d97f",
   "metadata": {},
   "outputs": [],
   "source": [
    "#configure these paths however you need\n",
    "\n",
    "data_path =os.path.join(os.getcwd(),\"../../Dataset/\")\n",
    "path_mrna = os.path.join(data_path, \"data_drug_treatment_auc.txt\")"
   ]
  },
  {
   "cell_type": "code",
   "execution_count": 3,
   "id": "b641617d",
   "metadata": {},
   "outputs": [],
   "source": [
    "auc = np.loadtxt(path_mrna, dtype=str, delimiter = '\\t')"
   ]
  },
  {
   "cell_type": "code",
   "execution_count": 4,
   "id": "1d31d59a",
   "metadata": {},
   "outputs": [
    {
     "data": {
      "text/plain": [
       "'Afatinib 1/2'"
      ]
     },
     "execution_count": 4,
     "metadata": {},
     "output_type": "execute_result"
    }
   ],
   "source": [
    "drugs = auc[1:,1]\n",
    "drugs[0]"
   ]
  },
  {
   "cell_type": "code",
   "execution_count": 5,
   "id": "2a815939",
   "metadata": {},
   "outputs": [
    {
     "data": {
      "text/plain": [
       "array(['Afatinib 1/2', 'Afatinib 2/2', 'AKT inhibitor VIII 1/2',\n",
       "       'AKT inhibitor VIII 2/2', 'Avagacestat 1/2', 'Avagacestat 2/2',\n",
       "       'AZD6482 1/2', 'AZD6482 2/2', 'Bicalutamide 1/2',\n",
       "       'Bicalutamide 2/2', 'BMS-536924 1/2', 'BMS-536924 2/2',\n",
       "       'CHIR-99021 1/2', 'CHIR-99021 2/2', 'GSK269962A 1/2',\n",
       "       'GSK269962A 2/2', 'JQ1 1/2', 'JQ1 2/2', 'Olaparib 1/2',\n",
       "       'Olaparib 2/2', 'Pictilisib 1/2', 'Pictilisib 2/2', 'PLX-4720 1/2',\n",
       "       'PLX-4720 2/2', 'Refametinib 1/2', 'Refametinib 2/2',\n",
       "       'Selumetinib 1/2', 'Selumetinib 2/2', 'UNC0638 1/2', 'UNC0638 2/2',\n",
       "       '(5Z)-7-Oxozeaenol', '5-Fluorouracil', 'A-443654', 'A-770041',\n",
       "       'AICA Ribonucleotide', 'Alectinib', 'Amuvatinib', 'AR-42',\n",
       "       'AS601245', 'AS605240', 'AT-7519', 'Axitinib', 'AZ628', 'AZD7762',\n",
       "       'AZD8055', 'BAY-61-3606', 'Belinostat', 'Bexarotene', 'BI-2536',\n",
       "       'BIX02189', 'Bleomycin', 'Bleomycin (50 uM)', 'BMS-345541',\n",
       "       'BMS-509744', 'BMS-754807', 'Bortezomib', 'Bosutinib',\n",
       "       'Bryostatin 1', 'BX-912', 'BX795', 'Cabozantinib', 'CAY10603',\n",
       "       'CCT-018159', 'CCT007093', 'Cetuximab', 'CGP-082996', 'CGP-60474',\n",
       "       'CI-1040', 'Cisplatin', 'CMK', 'CP466722', 'CP724714',\n",
       "       'Crizotinib', 'CUDC-101', 'CX-5461', 'Cyclopamine', 'Cytarabine',\n",
       "       'Dabrafenib', 'Dacinostat', 'Dactolisib', 'Daporinad', 'Dasatinib',\n",
       "       'DMOG', 'Docetaxel', 'Doramapimod', 'Doxorubicin', 'EHT-1864',\n",
       "       'Elesclomol', 'Embelin', 'Entinostat', 'Enzastaurin',\n",
       "       'Epothilone B', 'Erlotinib', 'Etoposide', 'Fedratinib', 'FH535',\n",
       "       'FMK', 'Foretinib', 'FR-180204', 'FTI-277', 'Gefitinib',\n",
       "       'Gemcitabine', 'Genentech Cpd 10', 'GNF-2', 'GSK1070916',\n",
       "       'GSK1904529A', 'GSK319347A', 'GSK429286A', 'GSK650394',\n",
       "       'GSK690693', 'GW-2580', 'GW441756', 'GW843682X', 'HG-5-113-01',\n",
       "       'HG-5-88-01', 'HG6-64-1', 'I-BET-762', 'ICL1100013', 'Idelalisib',\n",
       "       'Imatinib', 'IOX2', 'IPA-3', 'Ispinesib Mesylate',\n",
       "       'JNK Inhibitor VIII', 'JNK-9L', 'JQ12', 'JW-7-24-1', 'JW-7-52-1',\n",
       "       'KIN001-236', 'KIN001-244', 'KIN001-260', 'KIN001-266',\n",
       "       'KIN001-270', 'KU-55933', 'Lapatinib', 'Lenalidomide',\n",
       "       'Lestaurtinib', 'LFM-A13', 'Linifanib', 'Linsitinib', 'Luminespib',\n",
       "       'Masitinib', 'Methotrexate', 'MG-132', 'Midostaurin',\n",
       "       'Mitomycin-C', 'MK-2206', 'Motesanib', 'MPS-1-IN-1', 'Navitoclax',\n",
       "       'NG-25', 'Nilotinib', 'NPK76-II-72-1', 'NSC-207895', 'NSC-87877',\n",
       "       'NU7441', 'Nutlin-3a (-)', 'NVP-BHG712', 'NVP-TAE684',\n",
       "       'Obatoclax Mesylate', 'Omipalisib', 'OSI-027', 'OSI-930',\n",
       "       'OSU-03012', 'PAC-1', 'Paclitaxel', 'Palbociclib', 'Parthenolide',\n",
       "       'Pazopanib', 'PD0325901', 'PD173074', 'Pelitinib', 'Pevonedistat',\n",
       "       'PF-4708671', 'PF-562271', 'PFI-1', 'PFI-3', 'PHA-665752',\n",
       "       'PHA-793887', 'Phenformin', 'PI-103', 'PIK-93', 'Piperlongumine',\n",
       "       'Ponatinib', 'Pyrimethamine', 'QL-VIII-58', 'QL-X-138', 'QL-XI-92',\n",
       "       'QL-XII-47', 'QL-XII-61', 'QS11', 'Quizartinib', 'Rapamycin',\n",
       "       'RO-3306', 'rTRAIL', 'Rucaparib', 'Ruxolitinib',\n",
       "       'S-Trityl-L-cysteine', 'Salubrinal', 'Saracatinib', 'SB216763',\n",
       "       'SB505124', 'SB52334', 'SB590885', 'Seliciclib', 'Selisistat',\n",
       "       'Sepantronium bromide', 'Serdemetan', 'SGC0946', 'Shikonin',\n",
       "       'SL0101', 'SN-38', 'SNX-2112', 'Sorafenib', 'STF-62247',\n",
       "       'Sunitinib', 'T0901317', 'TAK-715', 'Talazoparib', 'Tamoxifen',\n",
       "       'Tanespimycin', 'Temozolomide', 'Temsirolimus', 'TGX221',\n",
       "       'Thapsigargin', 'THZ-2-102-1', 'THZ-2-49', 'Tipifarnib',\n",
       "       'Tivozanib', 'TL-1-85', 'TL-2-105', 'Tozasertib', 'TPCA-1',\n",
       "       'Trametinib', 'Tretinoin', 'Tubastatin A', 'TW 37', 'UNC1215',\n",
       "       'Veliparib', 'Vinblastine', 'Vinorelbine', 'Vismodegib',\n",
       "       'VNLG/124', 'Vorinostat', 'VX-11e', 'VX-702', 'Wee1 Inhibitor',\n",
       "       'WH-4-023', 'WHI-P97', 'WZ-1-84', 'WZ3105', 'XAV939', 'XMD11-85h',\n",
       "       'XMD13-2', 'XMD14-99', 'XMD15-27', 'XMD8-85', 'XMD8-92', 'Y-39983',\n",
       "       'YK-4-279', 'YM201636', 'Z-LLNle-CHO', 'ZG-10', 'Zibotentan',\n",
       "       'ZM447439', 'ZSTK474'], dtype='<U136')"
      ]
     },
     "execution_count": 5,
     "metadata": {},
     "output_type": "execute_result"
    }
   ],
   "source": [
    "drugs"
   ]
  },
  {
   "cell_type": "code",
   "execution_count": 6,
   "id": "c1a5e963",
   "metadata": {},
   "outputs": [],
   "source": [
    "import requests\n",
    "from bs4 import BeautifulSoup\n",
    "\n",
    "tki_list_url = \"https://go.drugbank.com/categories/DBCAT001447\""
   ]
  },
  {
   "cell_type": "code",
   "execution_count": 7,
   "id": "a3c7ae4c",
   "metadata": {},
   "outputs": [],
   "source": [
    "r = requests.get(tki_list_url)\n",
    "tki_soup = BeautifulSoup(r.text, 'html.parser')"
   ]
  },
  {
   "cell_type": "code",
   "execution_count": 8,
   "id": "253383ec",
   "metadata": {},
   "outputs": [],
   "source": [
    "drug_table = tki_soup.find(\"table\", {'class':\"table table-sm datatable dt-responsive\"})"
   ]
  },
  {
   "cell_type": "code",
   "execution_count": 9,
   "id": "37af1c7b",
   "metadata": {},
   "outputs": [
    {
     "data": {
      "text/plain": [
       "['3-[4-(1-formylpiperazin-4-yl)-benzylidenyl]-2-indolinone',\n",
       " 'Geldanamycin',\n",
       " 'PD173955',\n",
       " 'Radicicol',\n",
       " 'Nilotinib',\n",
       " 'Tandutinib',\n",
       " 'Piceatannol',\n",
       " 'Flumatinib',\n",
       " 'Genistein',\n",
       " 'Imatinib',\n",
       " 'Sunitinib',\n",
       " 'Gefitinib',\n",
       " 'Erlotinib',\n",
       " 'Vemurafenib',\n",
       " 'Sorafenib',\n",
       " 'Pazopanib',\n",
       " 'Lapatinib',\n",
       " 'Motesanib',\n",
       " 'Cabozantinib',\n",
       " 'Axitinib',\n",
       " 'Dasatinib',\n",
       " 'Selumetinib',\n",
       " 'Ibrutinib',\n",
       " 'Vandetanib',\n",
       " 'Bosutinib',\n",
       " 'Nintedanib',\n",
       " 'Fostamatinib',\n",
       " 'Acalabrutinib',\n",
       " 'Ponatinib',\n",
       " 'Afatinib',\n",
       " 'Cediranib',\n",
       " 'Dovitinib',\n",
       " 'Lenvatinib',\n",
       " 'Ruxolitinib',\n",
       " 'Pacritinib',\n",
       " 'Crizotinib',\n",
       " 'Lestaurtinib',\n",
       " 'Saracatinib',\n",
       " 'Alectinib',\n",
       " 'Brigatinib',\n",
       " 'Ceritinib',\n",
       " 'Midostaurin',\n",
       " 'Neratinib',\n",
       " 'Osimertinib',\n",
       " 'Regorafenib',\n",
       " 'Canertinib',\n",
       " 'Crenolanib',\n",
       " 'Entrectinib',\n",
       " 'Foretinib',\n",
       " 'Glesatinib',\n",
       " 'Icotinib',\n",
       " 'Radotinib',\n",
       " 'Savolitinib',\n",
       " 'Tesevatinib',\n",
       " 'Vatalanib',\n",
       " 'Dacomitinib',\n",
       " 'Larotrectinib',\n",
       " 'Gilteritinib',\n",
       " 'Erdafitinib',\n",
       " 'Pexidartinib',\n",
       " 'Fedratinib',\n",
       " 'Tucatinib',\n",
       " 'Capmatinib',\n",
       " 'Selpercatinib',\n",
       " 'Tirbanibulin',\n",
       " 'Tepotinib',\n",
       " 'Infigratinib',\n",
       " 'Tivozanib',\n",
       " 'Avapritinib',\n",
       " 'Lavendustin b',\n",
       " 'Lavendustin A',\n",
       " 'Methyl 2,5-dihydroxycinnamate',\n",
       " 'Tyrphostin B48',\n",
       " 'Tyrphostin B56',\n",
       " 'Tyrphostin AG 879']"
      ]
     },
     "execution_count": 9,
     "metadata": {},
     "output_type": "execute_result"
    }
   ],
   "source": [
    "tki_drugs = []\n",
    "for row in drug_table.find_all(\"tr\"):\n",
    "    try:\n",
    "        tki_drugs.append(row.strong.text)\n",
    "    except:\n",
    "        pass \n",
    "    \n",
    "tki_drugs"
   ]
  },
  {
   "cell_type": "code",
   "execution_count": 10,
   "id": "af5c2542",
   "metadata": {},
   "outputs": [
    {
     "data": {
      "text/plain": [
       "['Afatinib 1/2',\n",
       " 'Afatinib 2/2',\n",
       " 'Selumetinib 1/2',\n",
       " 'Selumetinib 2/2',\n",
       " 'Alectinib',\n",
       " 'Axitinib',\n",
       " 'Bosutinib',\n",
       " 'Cabozantinib',\n",
       " 'Crizotinib',\n",
       " 'Dasatinib',\n",
       " 'Erlotinib',\n",
       " 'Fedratinib',\n",
       " 'Foretinib',\n",
       " 'Gefitinib',\n",
       " 'Imatinib',\n",
       " 'Lapatinib',\n",
       " 'Lestaurtinib',\n",
       " 'Midostaurin',\n",
       " 'Motesanib',\n",
       " 'Nilotinib',\n",
       " 'Pazopanib',\n",
       " 'Ponatinib',\n",
       " 'Ruxolitinib',\n",
       " 'Saracatinib',\n",
       " 'Sorafenib',\n",
       " 'Sunitinib',\n",
       " 'Tivozanib']"
      ]
     },
     "execution_count": 10,
     "metadata": {},
     "output_type": "execute_result"
    }
   ],
   "source": [
    "#now cross reference our list of drugs with the tki ones \n",
    "#note: our original list contains extra labels so we're just gonna use string inclusion \n",
    "\n",
    "#intersection\n",
    "drug_subset = []\n",
    "for drug in drugs:\n",
    "    for tki_drug in tki_drugs:\n",
    "        if tki_drug in drug: drug_subset.append(drug)\n",
    "            \n",
    "            \n",
    "drug_subset"
   ]
  },
  {
   "cell_type": "code",
   "execution_count": 11,
   "id": "d4753b1a",
   "metadata": {},
   "outputs": [
    {
     "data": {
      "text/plain": [
       "True"
      ]
     },
     "execution_count": 11,
     "metadata": {},
     "output_type": "execute_result"
    }
   ],
   "source": [
    "#now make something quick for the easy colour map in R \n",
    "colour_labels = [1 if drug in drug_subset else 0 for drug in drugs]\n",
    "sum(colour_labels) == len(drug_subset)"
   ]
  },
  {
   "cell_type": "code",
   "execution_count": 12,
   "id": "8ccbeca0",
   "metadata": {},
   "outputs": [],
   "source": [
    "export_path = \"/Users/nathanielnethercott/Desktop/School/Polimi/2021:2022/AS/AS_Project_2022/nate\"\n",
    "np.savetxt(export_path+\"/tki_labels.txt\",colour_labels,fmt='%d')"
   ]
  },
  {
   "cell_type": "code",
   "execution_count": 13,
   "id": "d64b4592",
   "metadata": {},
   "outputs": [
    {
     "data": {
      "text/plain": [
       "266"
      ]
     },
     "execution_count": 13,
     "metadata": {},
     "output_type": "execute_result"
    }
   ],
   "source": [
    "len(colour_labels)"
   ]
  },
  {
   "cell_type": "code",
   "execution_count": null,
   "id": "f875ffc0",
   "metadata": {},
   "outputs": [],
   "source": []
  }
 ],
 "metadata": {
  "kernelspec": {
   "display_name": "Python 3",
   "language": "python",
   "name": "python3"
  },
  "language_info": {
   "codemirror_mode": {
    "name": "ipython",
    "version": 3
   },
   "file_extension": ".py",
   "mimetype": "text/x-python",
   "name": "python",
   "nbconvert_exporter": "python",
   "pygments_lexer": "ipython3",
   "version": "3.9.3"
  }
 },
 "nbformat": 4,
 "nbformat_minor": 5
}
